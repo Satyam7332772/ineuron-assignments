{
  "nbformat": 4,
  "nbformat_minor": 0,
  "metadata": {
    "colab": {
      "provenance": []
    },
    "kernelspec": {
      "name": "python3",
      "display_name": "Python 3"
    },
    "language_info": {
      "name": "python"
    }
  },
  "cells": [
    {
      "cell_type": "code",
      "execution_count": null,
      "metadata": {
        "id": "VXFJuIQerdBT"
      },
      "outputs": [],
      "source": []
    },
    {
      "cell_type": "markdown",
      "source": [
        "1. Write a Python program to print &quot;Hello Python&quot;?\n",
        "2. Write a Python program to do arithmetical operations addition and division.?\n",
        "3. Write a Python program to find the area of a triangle?\n",
        "4. Write a Python program to swap two variables?\n",
        "5. Write a Python program to generate a random number?"
      ],
      "metadata": {
        "id": "sLfcHkC9rdqo"
      }
    },
    {
      "cell_type": "code",
      "source": [
        "#ans 1\n",
        "print('Hello Python')"
      ],
      "metadata": {
        "colab": {
          "base_uri": "https://localhost:8080/"
        },
        "id": "RhDo_5Vvrgfp",
        "outputId": "1f173ed5-5fa6-44a7-8e27-c1fac91c3a21"
      },
      "execution_count": null,
      "outputs": [
        {
          "output_type": "stream",
          "name": "stdout",
          "text": [
            "Hello Python\n"
          ]
        }
      ]
    },
    {
      "cell_type": "code",
      "source": [
        "\n",
        "#ans 2\n",
        "a=int(input()) \n",
        "b = int(input())\n",
        "addition = a+b\n",
        "division = a/b\n",
        "print(f'addition ={addition},division= {division}')"
      ],
      "metadata": {
        "colab": {
          "base_uri": "https://localhost:8080/"
        },
        "id": "PZd-2Pxsrow_",
        "outputId": "b7a75d92-5a76-4b48-d311-8d2e18439f43"
      },
      "execution_count": null,
      "outputs": [
        {
          "output_type": "stream",
          "name": "stdout",
          "text": [
            "5\n",
            "10\n",
            "addition =15,division= 0.5\n"
          ]
        }
      ]
    },
    {
      "cell_type": "code",
      "source": [
        "#ans 3\n",
        "height = int(input())\n",
        "base = int(input())\n",
        "area_of_triangle = 0.5*height*base\n",
        "print(f'area_of_triangle ={area_of_triangle}')"
      ],
      "metadata": {
        "colab": {
          "base_uri": "https://localhost:8080/"
        },
        "id": "hbuKGjEesd3t",
        "outputId": "7e5987ed-2cd3-4536-b131-eb39023155e3"
      },
      "execution_count": null,
      "outputs": [
        {
          "output_type": "stream",
          "name": "stdout",
          "text": [
            "2\n",
            "5\n",
            "area_of_triangle =5.0\n"
          ]
        }
      ]
    },
    {
      "cell_type": "code",
      "source": [
        "#ans 4\n",
        "x = 12\n",
        "y = 24\n",
        "#now i am swapping \n",
        "x,y = y,x\n",
        "print(f\"\"\"Value of x :{x}\n",
        "      Value of y : {y}\n",
        "\"\"\")"
      ],
      "metadata": {
        "colab": {
          "base_uri": "https://localhost:8080/"
        },
        "id": "oio6nl7OuhOo",
        "outputId": "e20c1825-f57e-4244-e453-7e7bf972b32c"
      },
      "execution_count": null,
      "outputs": [
        {
          "output_type": "stream",
          "name": "stdout",
          "text": [
            "Value of x :24\n",
            "      Value of y : 12\n",
            "\n"
          ]
        }
      ]
    },
    {
      "cell_type": "code",
      "source": [
        "#ans5 \n",
        "import random\n",
        "a = random.random()\n",
        "print(a)"
      ],
      "metadata": {
        "colab": {
          "base_uri": "https://localhost:8080/"
        },
        "id": "GcXGkvR1t7J5",
        "outputId": "829c23ba-f241-446a-edfb-bb327165f981"
      },
      "execution_count": null,
      "outputs": [
        {
          "output_type": "stream",
          "name": "stdout",
          "text": [
            "0.6260215110859622\n"
          ]
        }
      ]
    },
    {
      "cell_type": "code",
      "source": [],
      "metadata": {
        "id": "lu8ESBw2vVLC"
      },
      "execution_count": null,
      "outputs": []
    }
  ]
}
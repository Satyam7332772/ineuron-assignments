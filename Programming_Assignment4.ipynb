{
  "nbformat": 4,
  "nbformat_minor": 0,
  "metadata": {
    "colab": {
      "provenance": [],
      "authorship_tag": "ABX9TyP9LnYNdm3aDuSqmSEGHZdc",
      "include_colab_link": true
    },
    "kernelspec": {
      "name": "python3",
      "display_name": "Python 3"
    },
    "language_info": {
      "name": "python"
    }
  },
  "cells": [
    {
      "cell_type": "markdown",
      "metadata": {
        "id": "view-in-github",
        "colab_type": "text"
      },
      "source": [
        "<a href=\"https://colab.research.google.com/github/Satyam7332772/ineuron-assignments/blob/main/Programming_Assignment4.ipynb\" target=\"_parent\"><img src=\"https://colab.research.google.com/assets/colab-badge.svg\" alt=\"Open In Colab\"/></a>"
      ]
    },
    {
      "cell_type": "code",
      "execution_count": null,
      "metadata": {
        "id": "Drot_DqKNk2n"
      },
      "outputs": [],
      "source": []
    },
    {
      "cell_type": "markdown",
      "source": [
        "1. Write a Python Program to Find the Factorial of a Number?\n",
        "2. Write a Python Program to Display the multiplication Table?\n",
        "3. Write a Python Program to Print the Fibonacci sequence?\n",
        "4. Write a Python Program to Check Armstrong Number?\n",
        "5. Write a Python Program to Find Armstrong Number in an Interval?\n",
        "6. Write a Python Program to Find the Sum of Natural Numbers?"
      ],
      "metadata": {
        "id": "extxH1yjNwHD"
      }
    },
    {
      "cell_type": "code",
      "source": [
        "#ans1\n",
        "num = int(input(\"Enter a number:\"))\n",
        "factorial = 1\n",
        "for i in range(1,num+1):\n",
        "  factorial = factorial*i\n",
        "print(f\"The factorial of{num} is {factorial} \")  "
      ],
      "metadata": {
        "colab": {
          "base_uri": "https://localhost:8080/"
        },
        "id": "kn_VkoQoNxSS",
        "outputId": "33d69da8-3d1a-4847-b02a-3a7cf699ba14"
      },
      "execution_count": 5,
      "outputs": [
        {
          "output_type": "stream",
          "name": "stdout",
          "text": [
            "Enter a number5\n",
            "The factorial of5 is 120 \n"
          ]
        }
      ]
    },
    {
      "cell_type": "code",
      "source": [
        "#ans2\n",
        "num = int(input(\"Enter number:\"))\n",
        "for i in range(1,11):\n",
        "  print(f\"{num} X {i} = {i*num}\")"
      ],
      "metadata": {
        "colab": {
          "base_uri": "https://localhost:8080/"
        },
        "id": "-erCKV6kOIXp",
        "outputId": "50dd94d9-7f44-41ed-fb52-0995096f80b3"
      },
      "execution_count": 8,
      "outputs": [
        {
          "output_type": "stream",
          "name": "stdout",
          "text": [
            "Eneter number:5\n",
            "5 X 1 = 5\n",
            "5 X 2 = 10\n",
            "5 X 3 = 15\n",
            "5 X 4 = 20\n",
            "5 X 5 = 25\n",
            "5 X 6 = 30\n",
            "5 X 7 = 35\n",
            "5 X 8 = 40\n",
            "5 X 9 = 45\n",
            "5 X 10 = 50\n"
          ]
        }
      ]
    },
    {
      "cell_type": "code",
      "source": [
        "#ans3\n",
        "terms = int(input(\"How many terms do you want to print? \"))\n",
        "\n",
        "a = 0\n",
        "b = 1\n",
        "\n",
        "if terms <= 0:\n",
        "    print(\"Please enter a positive integer\")\n",
        "elif terms == 1:\n",
        "    print(\"Fibonacci sequence up to\", terms, \"term:\")\n",
        "    print(a)\n",
        "else:\n",
        "    print(\"Fibonacci sequence up to\", terms, \"terms:\")\n",
        "    print(a)\n",
        "    print(b)\n",
        "    for i in range(2, terms):\n",
        "        c = a + b\n",
        "        print(c)\n",
        "        a = b\n",
        "        b = c"
      ],
      "metadata": {
        "colab": {
          "base_uri": "https://localhost:8080/"
        },
        "id": "bpS0F0WVUVux",
        "outputId": "899513bc-fe98-4f06-9786-e09a98d556f0"
      },
      "execution_count": 11,
      "outputs": [
        {
          "output_type": "stream",
          "name": "stdout",
          "text": [
            "How many terms do you want to print? 7\n",
            "Fibonacci sequence up to 7 terms:\n",
            "0\n",
            "1\n",
            "1\n",
            "2\n",
            "3\n",
            "5\n",
            "8\n"
          ]
        }
      ]
    },
    {
      "cell_type": "code",
      "source": [
        "#ans4\n",
        "num = int(input(\"Enter a number: \"))\n",
        "\n",
        "sum = 0\n",
        "temp = num\n",
        "order = len(str(num))\n",
        "\n",
        "while temp > 0:\n",
        "    digit = temp % 10\n",
        "    sum += digit ** order\n",
        "    temp //= 10\n",
        "\n",
        "if num == sum:\n",
        "    print(num, \"is an Armstrong number\")\n",
        "else:\n",
        "    print(num, \"is not an Armstrong number\")\n"
      ],
      "metadata": {
        "colab": {
          "base_uri": "https://localhost:8080/"
        },
        "id": "4yFO2qfBU4NR",
        "outputId": "7c0facd5-0218-4585-9b8d-19d577b2c7f2"
      },
      "execution_count": 12,
      "outputs": [
        {
          "output_type": "stream",
          "name": "stdout",
          "text": [
            "Enter a number: 150\n",
            "150 is not an Armstrong number\n"
          ]
        }
      ]
    },
    {
      "cell_type": "code",
      "source": [
        "#ans5\n",
        "lower = int(input(\"Enter lower limit: \"))\n",
        "upper = int(input(\"Enter upper limit: \"))\n",
        "\n",
        "for num in range(lower, upper + 1):\n",
        "    num_digits = len(str(num))\n",
        "\n",
        "    sum = 0\n",
        "\n",
        "    temp = num\n",
        "    while temp > 0:\n",
        "        digit = temp % 10\n",
        "        sum += digit ** num_digits\n",
        "        temp //= 10\n",
        "\n",
        "    if num == sum:\n",
        "        print(num)\n"
      ],
      "metadata": {
        "colab": {
          "base_uri": "https://localhost:8080/"
        },
        "id": "dAmxsPHPXiPI",
        "outputId": "9cdb3ac8-dbdf-4f22-ae96-b02521287073"
      },
      "execution_count": 14,
      "outputs": [
        {
          "output_type": "stream",
          "name": "stdout",
          "text": [
            "Enter lower limit: 5\n",
            "Enter upper limit: 7\n",
            "5\n",
            "6\n",
            "7\n"
          ]
        }
      ]
    },
    {
      "cell_type": "code",
      "source": [
        "#ans6\n",
        "n = int(input(\"Enter a positive integer: \"))\n",
        "\n",
        "sum = 0\n",
        "\n",
        "for i in range(1, n+1):\n",
        "    sum += i\n",
        "\n",
        "print(\"The sum of first\", n, \"natural numbers is\", sum)\n"
      ],
      "metadata": {
        "colab": {
          "base_uri": "https://localhost:8080/"
        },
        "id": "zadHGk3yYklS",
        "outputId": "b705f4cc-9632-4a53-a282-d2bbe17b517e"
      },
      "execution_count": 15,
      "outputs": [
        {
          "output_type": "stream",
          "name": "stdout",
          "text": [
            "Enter a positive integer: 7\n",
            "The sum of first 7 natural numbers is 28\n"
          ]
        }
      ]
    },
    {
      "cell_type": "code",
      "source": [],
      "metadata": {
        "id": "ky2K1LbIZNkx"
      },
      "execution_count": null,
      "outputs": []
    }
  ]
}